{
 "cells": [
  {
   "cell_type": "markdown",
   "metadata": {},
   "source": [
    "Данные можно взять тут: https://disk.yandex.ru/d/q1G0W-taR0TSxw"
   ]
  },
  {
   "cell_type": "code",
   "execution_count": 1,
   "metadata": {},
   "outputs": [
    {
     "data": {
      "application/vnd.microsoft.datawrangler.viewer.v0+json": {
       "columns": [
        {
         "name": "index",
         "rawType": "int64",
         "type": "integer"
        },
        {
         "name": "id",
         "rawType": "object",
         "type": "string"
        },
        {
         "name": "white_elo",
         "rawType": "float64",
         "type": "float"
        },
        {
         "name": "black_elo",
         "rawType": "float64",
         "type": "float"
        },
        {
         "name": "moves",
         "rawType": "object",
         "type": "string"
        },
        {
         "name": "marks",
         "rawType": "object",
         "type": "string"
        }
       ],
       "conversionMethod": "pd.DataFrame",
       "ref": "41ea9e38-4589-4057-90da-23868b7d63bb",
       "rows": [
        [
         "0",
         "787zsVup",
         "1638.0",
         "1851.0",
         "e2e4 c7c6 f2f4 d7d5 e4d5 c6d5 g1f3 b8c6 d2d3 g8f6 f1e2 d8c7 e1g1 e7e5 f4e5 c6e5 f3e5 c7e5 c1f4 e5b2 b1d2 f8c5 g1h1 e8g8 d2b3 c5b6 f4d6 f8d8 d6e7 d8d7 e7f6 g7f6 f1f3 d7c7 f3g3 g8h8 e2h5 c8f5 h5f7 c7f7 d1h5 f5e6 a1e1 f7e7 h5h6 b6f2 e1e6 f2g3 e6e7 b2b1 b3c1 b1c1 h6c1 g3d6 e7b7 a8e8 h2h3 d6c5 c1f4 e8e1 h1h2 c5g1 h2g3 e1e3 g3g4 h7h5 g4h5 e3e5 h5g6 e5g5 g6f6 g5g2 f4h6 h8g8 h6h7 g8f8 b7b8",
         "47,53"
        ],
        [
         "1",
         "F8M8OS71",
         "1760.0",
         "1823.0",
         "e2e4 c7c5 g1f3 d7d6 c2c3 g8f6 d2d3 a7a6 b1d2 e7e6 f1e2 f8e7 e1g1 b8c6 d2b3 e8g8 c1g5 d8c7 g5f6 e7f6 d3d4 c5d4 f3d4 c6d4 b3d4 d6d5 e4d5 e6d5 d4f3 c8e6 f3d4 e6d7 e2g4 d7g4 d1g4 c7e5 g4f5 e5d6 f1d1 f6d8 d4f3 d6b6 b2b3 d8f6 a1c1 a8c8 f5d5 c8c3 c1c3 f6c3 d5d3 c3f6 d3d6 f8d8 d6d8 f6d8 f3e5 d8f6 e5d7 b6c6 d7f6 c6f6 d1d7 f6a1 d7d1 a1d1",
         "52,56"
        ],
        [
         "2",
         "MQSyb3KW",
         "1877.0",
         "1909.0",
         "e2e4 c7c5 c2c3 d7d6 d2d4 c5d4 c3d4 b7b6 b1c3 c8b7 g1f3 a7a6 f1c4 e7e6 e1g1 f8e7 e4e5 d6d5 c4d3 b8c6 d3c2 f7f6 e5f6 e7f6 f1e1 d8d7 c2b3 g8e7 c3a4 d7d8 e1e6 e8g8 a4c3 c6b4 a2a3 b4c6 c1f4 d8c8 c3d5 e7d5 b3d5 g8h8 d5a2 c8d8 e6d6 d8e7 d1d2 g7g6 a1e1 e7g7 f4h6 g7c7 e1e6 f6g7 f3h4 a8d8 h6g7 h8g7 d6d8 f8d8 h4f5 g7h8 f5g3 d8d4 e6e8 h8g7 e8g8 g7f6 d2c3 c7e5 c3f3 d4f4 g8f8 f6g5 h2h4 f4h4 g3f1 h4f4 f3g3 f4g4 g3e3 e5e3 f1e3 g4f4 f8h8 g5h6 h8e8 c6d4 e8b8 d4e2 g1f1 e2g3 f1e1 g3f5 b8b7 f5e3 f2e3 f4f6 e1e2 h6g5 a2d5 h7h5 d5f3 a6a5 b2b3 g5h4 a3a4 h4g3 b7e7 h5h4 f3e4 g6g5 e7g7 g3g4 e4f3 g4f5 e3e4 f5f4 g7e7 g5g4 e4e5 g4f3 g2f3 f6f5 e5e6 f4g3 e7f7 f5e5 e2f1 e5e6 f7g7 g3f3 g7f7 f3g3 f7g7 g3f3 g7f7 f3g3 f7g7 g3f3 g7f7 f3g3 f7g7 g3f3 g7f7 f3g3 f7g7 g3f3",
         "126,130"
        ],
        [
         "3",
         "4MWQCxQ6",
         "1741.0",
         "1625.0",
         "e2e4 e7e5 d2d3 b8c6 g1f3 f8c5 f1e2 g8f6 e1g1 e8g8 c2c3 a7a6 b2b4 c5a7 a2a4 c6e7 c1a3 f8e8 c3c4 e7g6 g2g3 d7d6 a4a5 c8h3 f1e1 f6g4 c4c5 d6c5 b4c5 b7b6 f3d2 b6c5 e2g4 h3g4 d1g4 d8d3 e1e3 d3d4 d2b3 d4c4 b1d2 c4c2 a1c1 c2a2 a3c5 a7c5 b3c5 a2d2 c1d1 d2a5 c5d7 a8d8 e3d3 a5b5 d3d5 b5b3 d7c5 d8d5 d1d5 b3b1 g1g2 a6a5 g4d7 e8f8 d7c7 b1b5 c5d7 b5d7 c7d7 a5a4 d7a4 h7h6 h2h4 g8h7 h4h5 g6e7 d5e5 e7g8 e5e8 f8e8 a4e8 g8f6 e8f7 f6e4 f7g6 h7g8 g6e4 g8f7 f2f4 f7f6 g2f3 f6f7 g3g4 f7f6 e4e5 f6f7 g4g5 h6g5 f4g5 g7g6 e5f6 f7e8 f6g6 e8d7 h5h6 d7e7 h6h7 e7f8 h7h8q f8e7 h8e8",
         "31,35"
        ],
        [
         "4",
         "e9AY2m5j",
         "1766.0",
         "1733.0",
         "e2e4 c7c5 f1c4 e7e6 g1f3 d7d5 e4d5 e6d5 c4b5 b8d7 e1g1 a7a6 b5d7 c8d7 d2d4 c5c4 c1g5 g8f6 f1e1 d7e6 f3e5 f8e7 g5f6 e7f6 c2c3 e8g8 h2h3 d8c8 b1d2 f6e5 e1e5 e6h3 g2h3 c8h3 d1h5 h3d3 a1d1 d3c2 e5d5 c2b2 d2c4 b2c3 c4d6 c3c2 d6f5 g7g6 f5h6 g8g7 h6f5 g6f5 d5c5 c2e4 h5g5 g7h8 g5f6 h8g8 f6g5 g8h8 g5f6 h8g8 f6g5 g8h8 g5f6 h8g8 f6g5 g8h8 g5f6 h8g8 f6g5 g8h8",
         "49,55"
        ]
       ],
       "shape": {
        "columns": 5,
        "rows": 5
       }
      },
      "text/html": [
       "<div>\n",
       "<style scoped>\n",
       "    .dataframe tbody tr th:only-of-type {\n",
       "        vertical-align: middle;\n",
       "    }\n",
       "\n",
       "    .dataframe tbody tr th {\n",
       "        vertical-align: top;\n",
       "    }\n",
       "\n",
       "    .dataframe thead th {\n",
       "        text-align: right;\n",
       "    }\n",
       "</style>\n",
       "<table border=\"1\" class=\"dataframe\">\n",
       "  <thead>\n",
       "    <tr style=\"text-align: right;\">\n",
       "      <th></th>\n",
       "      <th>id</th>\n",
       "      <th>white_elo</th>\n",
       "      <th>black_elo</th>\n",
       "      <th>moves</th>\n",
       "      <th>marks</th>\n",
       "    </tr>\n",
       "  </thead>\n",
       "  <tbody>\n",
       "    <tr>\n",
       "      <th>0</th>\n",
       "      <td>787zsVup</td>\n",
       "      <td>1638.0</td>\n",
       "      <td>1851.0</td>\n",
       "      <td>e2e4 c7c6 f2f4 d7d5 e4d5 c6d5 g1f3 b8c6 d2d3 g...</td>\n",
       "      <td>47,53</td>\n",
       "    </tr>\n",
       "    <tr>\n",
       "      <th>1</th>\n",
       "      <td>F8M8OS71</td>\n",
       "      <td>1760.0</td>\n",
       "      <td>1823.0</td>\n",
       "      <td>e2e4 c7c5 g1f3 d7d6 c2c3 g8f6 d2d3 a7a6 b1d2 e...</td>\n",
       "      <td>52,56</td>\n",
       "    </tr>\n",
       "    <tr>\n",
       "      <th>2</th>\n",
       "      <td>MQSyb3KW</td>\n",
       "      <td>1877.0</td>\n",
       "      <td>1909.0</td>\n",
       "      <td>e2e4 c7c5 c2c3 d7d6 d2d4 c5d4 c3d4 b7b6 b1c3 c...</td>\n",
       "      <td>126,130</td>\n",
       "    </tr>\n",
       "    <tr>\n",
       "      <th>3</th>\n",
       "      <td>4MWQCxQ6</td>\n",
       "      <td>1741.0</td>\n",
       "      <td>1625.0</td>\n",
       "      <td>e2e4 e7e5 d2d3 b8c6 g1f3 f8c5 f1e2 g8f6 e1g1 e...</td>\n",
       "      <td>31,35</td>\n",
       "    </tr>\n",
       "    <tr>\n",
       "      <th>4</th>\n",
       "      <td>e9AY2m5j</td>\n",
       "      <td>1766.0</td>\n",
       "      <td>1733.0</td>\n",
       "      <td>e2e4 c7c5 f1c4 e7e6 g1f3 d7d5 e4d5 e6d5 c4b5 b...</td>\n",
       "      <td>49,55</td>\n",
       "    </tr>\n",
       "  </tbody>\n",
       "</table>\n",
       "</div>"
      ],
      "text/plain": [
       "         id  white_elo  black_elo  \\\n",
       "0  787zsVup     1638.0     1851.0   \n",
       "1  F8M8OS71     1760.0     1823.0   \n",
       "2  MQSyb3KW     1877.0     1909.0   \n",
       "3  4MWQCxQ6     1741.0     1625.0   \n",
       "4  e9AY2m5j     1766.0     1733.0   \n",
       "\n",
       "                                               moves    marks  \n",
       "0  e2e4 c7c6 f2f4 d7d5 e4d5 c6d5 g1f3 b8c6 d2d3 g...    47,53  \n",
       "1  e2e4 c7c5 g1f3 d7d6 c2c3 g8f6 d2d3 a7a6 b1d2 e...    52,56  \n",
       "2  e2e4 c7c5 c2c3 d7d6 d2d4 c5d4 c3d4 b7b6 b1c3 c...  126,130  \n",
       "3  e2e4 e7e5 d2d3 b8c6 g1f3 f8c5 f1e2 g8f6 e1g1 e...    31,35  \n",
       "4  e2e4 c7c5 f1c4 e7e6 g1f3 d7d5 e4d5 e6d5 c4b5 b...    49,55  "
      ]
     },
     "execution_count": 1,
     "metadata": {},
     "output_type": "execute_result"
    }
   ],
   "source": [
    "import pandas as pd\n",
    "\n",
    "data = pd.read_csv('C:/Users/matvey/Documents/chess_data/full_labeled.csv')\n",
    "data.head()"
   ]
  },
  {
   "cell_type": "markdown",
   "metadata": {},
   "source": [
    "Напишем функцию для предобработки данных"
   ]
  },
  {
   "cell_type": "code",
   "execution_count": 25,
   "metadata": {},
   "outputs": [],
   "source": [
    "import chess\n",
    "import numpy as np\n",
    "import pandas as pd\n",
    "from typing import Union\n",
    "\n",
    "def prepare_data(data: Union[pd.DataFrame, dict, pd.Series], board2vec) -> tuple:\n",
    "    \"\"\"\n",
    "    Обрабатывает данные для модели, принимая как DataFrame, так и отдельные записи.\n",
    "\n",
    "    Args:\n",
    "        data: Входные данные - DataFrame или отдельная запись (dict/Series)\n",
    "        board2vec: Функция кодирования досок\n",
    "\n",
    "    Returns:\n",
    "        Кортеж (признаки, целевая_переменная)\n",
    "    \"\"\"\n",
    "    # Преобразуем одиночные записи в DataFrame\n",
    "    if not isinstance(data, pd.DataFrame):\n",
    "        data = pd.DataFrame([data] if not isinstance(data, list) else data)\n",
    "\n",
    "    data['moves'] = data['moves'].str.split(' ')\n",
    "    data['marks'] = data['marks'].str.split(',')\n",
    "    dfs = []\n",
    "    for row in data.itertuples(index=False):\n",
    "        # Извлекаем параметры из строки\n",
    "        start, end = map(int, row.marks)\n",
    "        board = chess.Board()\n",
    "        boards = []\n",
    "        target = np.zeros(shape=(len(row.moves),))\n",
    "        target[start:end] = 1\n",
    "\n",
    "        # Генерируем последовательность досок и целевых значений\n",
    "        for move in row.moves:\n",
    "            board.push(chess.Move.from_uci(move))\n",
    "            boards.append(board.copy())\n",
    "\n",
    "        # Кодируем доски и формируем DataFrame\n",
    "        encoded = board2vec(boards)\n",
    "        df = pd.DataFrame(np.vstack(encoded))\n",
    "        df['white_elo'] = row.white_elo\n",
    "        df['black_elo'] = row.black_elo\n",
    "        df['target'] = target\n",
    "\n",
    "        dfs.append(df)\n",
    "\n",
    "    # Объединяем все данные\n",
    "    result = pd.concat(dfs, ignore_index=True)\n",
    "    result.columns = result.columns.astype(str)\n",
    "\n",
    "    return result.drop(columns='target'), result['target']"
   ]
  },
  {
   "cell_type": "markdown",
   "metadata": {},
   "source": [
    "Напишем функцию для тренировки и оценки модели. Будем считать все метрики подряд, так информативнее. Моделька - LightGBM бустер, потому что она быстро обучается и имеет неплохое качество"
   ]
  },
  {
   "cell_type": "code",
   "execution_count": 15,
   "metadata": {},
   "outputs": [],
   "source": [
    "import lightgbm as lgb\n",
    "from sklearn.metrics import (\n",
    "    accuracy_score,\n",
    "    precision_score,\n",
    "    recall_score,\n",
    "    f1_score,\n",
    "    confusion_matrix\n",
    ")\n",
    "\n",
    "def validate(y_pred, y_true):\n",
    "    # Оцениваем качество модели\n",
    "    accuracy = accuracy_score(y_true, y_pred)\n",
    "    precision = precision_score(y_true, y_pred)\n",
    "    recall = recall_score(y_true, y_pred)\n",
    "    f1 = f1_score(y_true, y_pred)\n",
    "    conf_matrix = confusion_matrix(y_true, y_pred)\n",
    "\n",
    "    # Выводим метрики качества\n",
    "    print(f\"Accuracy: {accuracy:.4f}\")\n",
    "    print(f\"Precision: {precision:.4f}\")\n",
    "    print(f\"Recall: {recall:.4f}\")\n",
    "    print(f\"F1 Score: {f1:.4f}\")\n",
    "    print(\"Confusion Matrix:\")\n",
    "    print(conf_matrix)\n",
    "\n",
    "\n",
    "def make_lgb(X, y):\n",
    "    train_data = lgb.Dataset(X, label=y)\n",
    "    # Параметры модели\n",
    "    params = {\n",
    "        'objective': 'binary',  # Для бинарной классификации\n",
    "        'metric': 'binary_logloss',\n",
    "        'boosting_type': 'gbdt',\n",
    "        'num_leaves': 40,\n",
    "        'learning_rate': 0.01\n",
    "    }\n",
    "\n",
    "    return lgb.train(params, train_data, num_boost_round=500)"
   ]
  },
  {
   "cell_type": "markdown",
   "metadata": {},
   "source": [
    "Собираем тренировочную и тестовую выборки"
   ]
  },
  {
   "cell_type": "code",
   "execution_count": 12,
   "metadata": {},
   "outputs": [
    {
     "name": "stdout",
     "output_type": "stream",
     "text": [
      "(138251, 66) (47789, 66)\n"
     ]
    }
   ],
   "source": [
    "# Муть с относительными импортами\n",
    "import sys\n",
    "from pathlib import Path\n",
    "module_path = str(Path.cwd().parent.parent)\n",
    "if module_path not in sys.path:\n",
    "    sys.path.append(module_path)\n",
    "from experiments.experiment_01.inference import board2vec\n",
    "\n",
    "X_train, y_train = prepare_data(data.sample(1500, random_state=42), board2vec)\n",
    "X_test, y_test = prepare_data(data.sample(500, random_state=52), board2vec)\n",
    "print(X_train.shape, X_test.shape)"
   ]
  },
  {
   "cell_type": "markdown",
   "metadata": {},
   "source": [
    "Обучаем и валидируем модель"
   ]
  },
  {
   "cell_type": "code",
   "execution_count": null,
   "metadata": {},
   "outputs": [
    {
     "name": "stdout",
     "output_type": "stream",
     "text": [
      "[LightGBM] [Info] Number of positive: 6902, number of negative: 131349\n",
      "[LightGBM] [Info] Auto-choosing col-wise multi-threading, the overhead of testing was 0,018428 seconds.\n",
      "You can set `force_col_wise=true` to remove the overhead.\n",
      "[LightGBM] [Info] Total Bins 16828\n",
      "[LightGBM] [Info] Number of data points in the train set: 138251, number of used features: 66\n",
      "[LightGBM] [Info] [binary:BoostFromScore]: pavg=0,049924 -> initscore=-2,946047\n",
      "[LightGBM] [Info] Start training from score -2,946047\n",
      "Accuracy: 0.8871\n",
      "Precision: 0.1204\n",
      "Recall: 0.2065\n",
      "F1 Score: 0.1521\n",
      "Confusion Matrix:\n",
      "[[41909  3536]\n",
      " [ 1860   484]]\n"
     ]
    }
   ],
   "source": [
    "model = make_lgb(X_train, y_train)\n",
    "validate(model.predict(X_test) > 0.1, y_test)"
   ]
  },
  {
   "cell_type": "markdown",
   "metadata": {},
   "source": [
    "Посмотрим как модель оценивает вероятность интересности хода"
   ]
  },
  {
   "cell_type": "code",
   "execution_count": 14,
   "metadata": {},
   "outputs": [
    {
     "data": {
      "image/png": "[encoded data removed]",
      "text/plain": [
       "<Figure size 640x480 with 1 Axes>"
      ]
     },
     "metadata": {},
     "output_type": "display_data"
    }
   ],
   "source": [
    "import matplotlib.pyplot as plt\n",
    "\n",
    "X, y = prepare_data(data.sample(1), board2vec)\n",
    "y_pred = model.predict(X)\n",
    "plt.scatter(x=np.arange(y_pred.shape[0]), y=y_pred, c=y, cmap='bwr', alpha=0.5)\n",
    "plt.plot(y_pred, alpha=0.3)\n",
    "plt.show()"
   ]
  },
  {
   "cell_type": "markdown",
   "metadata": {},
   "source": [
    "Наконец, выход модели можно подвергнуть постобработки в надежде на улучшение качества"
   ]
  },
  {
   "cell_type": "code",
   "execution_count": 40,
   "metadata": {},
   "outputs": [],
   "source": [
    "def pseudo_inference(model: lgb.Booster, sample: pd.DataFrame, embedding_function, alpha: float, show = False):\n",
    "    X, y_true = prepare_data(sample, embedding_function)\n",
    "    y_pred = model.predict(X)\n",
    "    t = max(0.1, np.percentile(y_pred, 100 - 7))\n",
    "    m = np.mean(y_pred)\n",
    "    y_result = y_pred > t\n",
    "\n",
    "    window_size = 2\n",
    "    eps = alpha * t + (1 - alpha) * m\n",
    "    for i in np.where(y_pred > t)[0]:\n",
    "        y_result[i - window_size:i + window_size + 1] = y_pred[i - window_size:i + window_size + 1] > eps\n",
    "\n",
    "    for i in range(1, len(y_result) - 1):\n",
    "        if y_result[i - 1] and y_result[i + 1]:\n",
    "            y_result[i] = 1\n",
    "\n",
    "    result = []\n",
    "    flag = False\n",
    "    start = -1\n",
    "    for i in range(len(y_result)):\n",
    "        if y_result[i] and not flag:\n",
    "            start = i\n",
    "            flag = True\n",
    "        if not y_result[i] and flag:\n",
    "            flag = False\n",
    "            if i - start < 4:\n",
    "                for j in range(start, i):\n",
    "                    y_result[j] = 0\n",
    "            else:\n",
    "                result.append((start, i))\n",
    "    if flag:\n",
    "        result.append((start, len(y_result)))\n",
    "    if show:\n",
    "        plt.scatter(x=np.arange(y_pred.shape[0]), y=y_result, c=y_true, cmap='bwr')\n",
    "        plt.scatter(x=np.arange(y_pred.shape[0]), y=y_pred, alpha=0.8, c='k')\n",
    "        plt.show()\n",
    "    return y_result, y_true, result"
   ]
  },
  {
   "cell_type": "code",
   "execution_count": 58,
   "metadata": {},
   "outputs": [
    {
     "data": {
      "image/png": "[encoded data removed]",
      "text/plain": [
       "<Figure size 640x480 with 1 Axes>"
      ]
     },
     "metadata": {},
     "output_type": "display_data"
    }
   ],
   "source": [
    "_ = pseudo_inference(model, data.sample(1), board2vec, alpha=0.3, show=True)"
   ]
  },
  {
   "cell_type": "markdown",
   "metadata": {},
   "source": [
    "И теперь посмотрим, улучшилось ли качество глобально"
   ]
  },
  {
   "cell_type": "code",
   "execution_count": 60,
   "metadata": {},
   "outputs": [
    {
     "name": "stdout",
     "output_type": "stream",
     "text": [
      "Precision: 0.0688, Recall: 0.2087\n"
     ]
    }
   ],
   "source": [
    "precisions = []\n",
    "recalls = []\n",
    "for _ in range(200):\n",
    "    y_pred, y_true, _ = pseudo_inference(model, data.sample(1), board2vec, alpha=0.3)\n",
    "    precisions.append(precision_score(y_true, y_pred, zero_division=0))\n",
    "    recalls.append(recall_score(y_true, y_pred))\n",
    "print(f'Precision: {sum(precisions) / len(precisions):.4f}, Recall: {sum(recalls) / len(recalls):.4f}')"
   ]
  }
 ],
 "metadata": {
  "kernelspec": {
   "display_name": ".venv",
   "language": "python",
   "name": "python3"
  },
  "language_info": {
   "codemirror_mode": {
    "name": "ipython",
    "version": 3
   },
   "file_extension": ".py",
   "mimetype": "text/x-python",
   "name": "python",
   "nbconvert_exporter": "python",
   "pygments_lexer": "ipython3",
   "version": "3.11.9"
  }
 },
 "nbformat": 4,
 "nbformat_minor": 2
}
